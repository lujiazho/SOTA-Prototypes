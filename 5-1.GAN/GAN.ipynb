{
 "cells": [
  {
   "cell_type": "code",
   "execution_count": 1,
   "metadata": {},
   "outputs": [
    {
     "data": {
      "image/png": "[encoded data removed]",
      "text/plain": [
       "<Figure size 432x288 with 1 Axes>"
      ]
     },
     "metadata": {
      "needs_background": "light"
     },
     "output_type": "display_data"
    }
   ],
   "source": [
    "import numpy as np\n",
    "import pandas as pd\n",
    "import matplotlib.pyplot as plt\n",
    "\n",
    "train = pd.read_csv('./data/digit.csv')\n",
    "train = train.drop(['label'], axis=1)\n",
    "data = train[:64].to_numpy().reshape(64, 1, 28, 28)\n",
    "_ = plt.imshow(data[1].reshape(28,28))"
   ]
  },
  {
   "cell_type": "code",
   "execution_count": 2,
   "metadata": {},
   "outputs": [
    {
     "name": "stdout",
     "output_type": "stream",
     "text": [
      "[Epoch 5/50] [Batch 8/8] [D loss: 0.679962] [G loss: 0.732385]\n",
      "[Epoch 10/50] [Batch 8/8] [D loss: 0.584665] [G loss: 0.850403]\n",
      "[Epoch 15/50] [Batch 8/8] [D loss: 1.051279] [G loss: 0.600967]\n",
      "[Epoch 20/50] [Batch 8/8] [D loss: 1.108815] [G loss: 0.581483]\n",
      "[Epoch 25/50] [Batch 8/8] [D loss: 0.626518] [G loss: 1.130054]\n",
      "[Epoch 30/50] [Batch 8/8] [D loss: 0.142171] [G loss: 3.431426]\n",
      "[Epoch 35/50] [Batch 8/8] [D loss: 0.146890] [G loss: 6.406354]\n",
      "[Epoch 40/50] [Batch 8/8] [D loss: 0.052916] [G loss: 4.998194]\n",
      "[Epoch 45/50] [Batch 8/8] [D loss: 0.319150] [G loss: 5.021058]\n",
      "[Epoch 50/50] [Batch 8/8] [D loss: 0.005324] [G loss: 7.634764]\n"
     ]
    }
   ],
   "source": [
    "import torch\n",
    "import torch.nn as nn\n",
    "\n",
    "class Generator(nn.Module):\n",
    "    def __init__(self, in_channels=1, img_size=28):\n",
    "        super(Generator, self).__init__()\n",
    "        \n",
    "        self.in_c = in_channels\n",
    "        self.img_size = img_size\n",
    "        \n",
    "        self.model = nn.Sequential(\n",
    "            nn.Linear(opt.latent_dim, 128), nn.LeakyReLU(0.2, inplace=True),\n",
    "            nn.Linear(128, 256), nn.LeakyReLU(0.2, inplace=True), nn.BatchNorm1d(256, 0.1),\n",
    "            nn.Linear(256, 512), nn.LeakyReLU(0.2, inplace=True), nn.BatchNorm1d(512, 0.1),\n",
    "            nn.Linear(512, 1024), nn.LeakyReLU(0.2, inplace=True), nn.BatchNorm1d(1024, 0.1),\n",
    "            nn.Linear(1024, int(np.prod((self.in_c, self.img_size, self.img_size)))),\n",
    "            nn.Tanh()\n",
    "        )\n",
    "\n",
    "    def forward(self, z):\n",
    "        img = self.model(z)\n",
    "        return img.view(img.size(0), self.in_c, self.img_size, self.img_size)\n",
    "\n",
    "\n",
    "class Discriminator(nn.Module):\n",
    "    def __init__(self, in_channels=1, img_size=28):\n",
    "        super(Discriminator, self).__init__()\n",
    "\n",
    "        self.model = nn.Sequential(\n",
    "            nn.Linear(in_channels*img_size**2, 512),\n",
    "            nn.LeakyReLU(0.2, inplace=True),\n",
    "            nn.Linear(512, 256),\n",
    "            nn.LeakyReLU(0.2, inplace=True),\n",
    "            nn.Linear(256, 1),\n",
    "            nn.Sigmoid()\n",
    "        )\n",
    "\n",
    "    def forward(self, img):\n",
    "        img_flat = img.view(img.shape[0], -1)\n",
    "        return self.model(img_flat)\n",
    "\n",
    "class Config:\n",
    "    n_epochs = 50\n",
    "    batch_size = 8\n",
    "    lr = 0.0003\n",
    "    latent_dim = 100     # dimension of inputs\n",
    "    img_size = 28\n",
    "    d_steps = 1          # discriminator update steps\n",
    "\n",
    "opt = Config()\n",
    "\n",
    "# Loss function\n",
    "criterion = torch.nn.BCELoss()\n",
    "\n",
    "# Initialize generator and discriminator\n",
    "generator = Generator(img_size=opt.img_size)\n",
    "discriminator = Discriminator(img_size=opt.img_size)\n",
    "\n",
    "# Optimizers\n",
    "optimizer_G = torch.optim.Adam(generator.parameters(), lr=opt.lr)\n",
    "optimizer_D = torch.optim.Adam(discriminator.parameters(), lr=opt.lr)\n",
    "\n",
    "batch_num = len(data)//opt.batch_size\n",
    "for epoch in range(opt.n_epochs):\n",
    "    for i in range(batch_num):\n",
    "        imgs = torch.Tensor(data[i:i+opt.batch_size])\n",
    "\n",
    "        # labels\n",
    "        label_real = torch.ones(opt.batch_size, 1)\n",
    "        label_fake = torch.zeros(opt.batch_size, 1)\n",
    "\n",
    "        for j in range(opt.d_steps):\n",
    "            # normal distribution noise\n",
    "            z = torch.Tensor(np.random.normal(0, 1, size=(opt.batch_size, opt.latent_dim)))\n",
    "            # generate target distribution data\n",
    "            gen_imgs = generator(z)\n",
    "\n",
    "            # update discriminator\n",
    "            optimizer_D.zero_grad()\n",
    "            real_loss = criterion(discriminator(imgs), label_real)\n",
    "            fake_loss = criterion(discriminator(gen_imgs.detach()), label_fake)\n",
    "            d_loss = real_loss + fake_loss\n",
    "            d_loss.backward()\n",
    "            optimizer_D.step()\n",
    "        \n",
    "        # update generator\n",
    "        optimizer_G.zero_grad()\n",
    "        g_loss = criterion(discriminator(gen_imgs), label_real)\n",
    "        g_loss.backward()\n",
    "        optimizer_G.step() # only updates the parameters of generator\n",
    "\n",
    "        if (epoch+1) % 5 == 0 and (i+1) % 8 == 0: \n",
    "            print(\n",
    "                \"[Epoch %d/%d] [Batch %d/%d] [D loss: %f] [G loss: %f]\"\n",
    "                % (epoch+1, opt.n_epochs, i+1, batch_num, d_loss.item(), g_loss.item())\n",
    "            )"
   ]
  },
  {
   "cell_type": "code",
   "execution_count": 3,
   "metadata": {},
   "outputs": [
    {
     "data": {
      "image/png": "[encoded data removed]",
      "text/plain": [
       "<Figure size 432x288 with 1 Axes>"
      ]
     },
     "metadata": {
      "needs_background": "light"
     },
     "output_type": "display_data"
    }
   ],
   "source": [
    "gen = generator(torch.Tensor(np.random.normal(0, 1, size=(opt.batch_size, opt.latent_dim))))\n",
    "_ = plt.imshow(gen[0][0].detach().numpy())"
   ]
  }
 ],
 "metadata": {
  "kernelspec": {
   "display_name": "Python 3",
   "language": "python",
   "name": "python3"
  },
  "language_info": {
   "codemirror_mode": {
    "name": "ipython",
    "version": 3
   },
   "file_extension": ".py",
   "mimetype": "text/x-python",
   "name": "python",
   "nbconvert_exporter": "python",
   "pygments_lexer": "ipython3",
   "version": "3.7.10"
  }
 },
 "nbformat": 4,
 "nbformat_minor": 4
}
