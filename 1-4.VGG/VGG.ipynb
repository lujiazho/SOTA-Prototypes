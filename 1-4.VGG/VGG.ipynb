{
 "cells": [
  {
   "cell_type": "markdown",
   "metadata": {},
   "source": [
    "Coded by Lujia Zhong @lujiazho<br>\n",
    "Reference: https://github.com/msyim/VGG16, https://github.com/WZMIAOMIAO/deep-learning-for-image-processing"
   ]
  },
  {
   "cell_type": "code",
   "execution_count": 1,
   "metadata": {},
   "outputs": [],
   "source": [
    "import time\n",
    "import torch\n",
    "import torch.nn as nn\n",
    "\n",
    "def ConvBlock(in_channel, out_channel, num_conv):\n",
    "    layers = [nn.Sequential(nn.Conv2d(in_channel, out_channel, kernel_size=3, padding=1), nn.ReLU())]\n",
    "    \n",
    "    for _ in range(num_conv-1):\n",
    "        layers.append(nn.Sequential(nn.Conv2d(out_channel, out_channel, kernel_size=3, padding=1), nn.ReLU()))\n",
    "    \n",
    "    layers.append(nn.MaxPool2d(kernel_size=2, stride=2))\n",
    "    return nn.Sequential(*layers)\n",
    "\n",
    "class VGG16(nn.Module):\n",
    "    def __init__(self, config):\n",
    "        super().__init__()\n",
    "\n",
    "        self.block1 = ConvBlock(3, 64, config.num_conv[0])\n",
    "        self.block2 = ConvBlock(64, 128, config.num_conv[1])\n",
    "        self.block3 = ConvBlock(128, 256, config.num_conv[2])\n",
    "        self.block4 = ConvBlock(256, 512, config.num_conv[3])\n",
    "        self.block5 = ConvBlock(512, 512, config.num_conv[4])\n",
    "\n",
    "        # FC layers\n",
    "        self.fc1 = nn.Sequential(nn.Linear(7*7*512, 4096), nn.Dropout(0.5), nn.ReLU())\n",
    "        self.fc2 = nn.Sequential(nn.Linear(4096, 4096), nn.Dropout(0.5), nn.ReLU())\n",
    "        self.fc3 = nn.Linear(4096, config.num_classes)\n",
    "\n",
    "    def forward(self, x):\n",
    "        # torch.Size([4, 3, 224, 224])\n",
    "        assert x.shape[1] == 3, \"Unsupported input channel.\"\n",
    "        assert x.shape[-2] == 224 and x.shape[-1] == 224, \"Unsupported image size.\"\n",
    "        \n",
    "        x = self.block1(x)  # torch.Size([4, 64, 112, 112])\n",
    "        x = self.block2(x)  # torch.Size([4, 128, 56, 56])\n",
    "        x = self.block3(x)  # torch.Size([4, 256, 28, 28])\n",
    "        x = self.block4(x)  # torch.Size([4, 512, 14, 14])\n",
    "        x = self.block5(x)  # torch.Size([4, 512, 7, 7])\n",
    "\n",
    "        x = x.view(x.shape[0], -1) # torch.Size([4, 25088])\n",
    "\n",
    "        x = self.fc1(x)     # torch.Size([4, 4096])\n",
    "        x = self.fc2(x)     # torch.Size([4, 4096])\n",
    "        x = self.fc3(x)     # torch.Size([4, 1000])\n",
    "\n",
    "        # x = nn.functional.softmax(x, dim=-1): We don't need to add cause CrossEntropyLoss includes one.\n",
    "        return x\n",
    "\n",
    "class VGGConfig:\n",
    "    def __init__(self, VGGType='11'):\n",
    "        self.num_classes = 1000\n",
    "        assert VGGType in ['11', '13', '16', '19'], \"Unknown VGG Type.\"\n",
    "        \n",
    "        if VGGType == '11':\n",
    "            self.num_conv = [1, 1, 2, 2, 2]\n",
    "        elif VGGType == '13':\n",
    "            self.num_conv = [2, 2, 2, 2, 2]\n",
    "        elif VGGType == '16':\n",
    "            self.num_conv = [2, 2, 3, 3, 3]\n",
    "        elif VGGType == '19':\n",
    "            self.num_conv = [2, 2, 4, 4, 4]\n",
    "\n",
    "config = VGGConfig('16')\n",
    "model = VGG16(config)"
   ]
  },
  {
   "cell_type": "code",
   "execution_count": 2,
   "metadata": {},
   "outputs": [
    {
     "name": "stdout",
     "output_type": "stream",
     "text": [
      "Iterarion:  1, loss = 6.9173\n",
      "Iterarion:  2, loss = 7.0432\n",
      "Iterarion:  3, loss = 6.9376\n",
      "Iterarion:  4, loss = 6.9018\n",
      "Iterarion:  5, loss = 6.9245\n",
      "4.3176s / iterarion\n"
     ]
    }
   ],
   "source": [
    "optimizer = torch.optim.Adam(model.parameters(), lr=0.001)\n",
    "criterion = nn.CrossEntropyLoss()\n",
    "\n",
    "batch = 4\n",
    "iterarions = 5\n",
    "begin = time.time()\n",
    "\n",
    "# Training\n",
    "for iterarion in range(iterarions):\n",
    "    x = torch.rand((batch, 3, 224, 224))\n",
    "    y = torch.randint(0, config.num_classes, (batch,))\n",
    "    \n",
    "    optimizer.zero_grad()\n",
    "    pred = model(x)\n",
    "\n",
    "    loss = criterion(pred, y)\n",
    "\n",
    "    if iterarion % 1 == 0:\n",
    "        print('Iterarion:', '%2d,' % (iterarion + 1), 'loss =', '{:.4f}'.format(loss))\n",
    "\n",
    "    loss.backward()\n",
    "    optimizer.step()\n",
    "\n",
    "print(f\"{(time.time() - begin)/iterarions:.4f}s / iterarion\")"
   ]
  }
 ],
 "metadata": {
  "kernelspec": {
   "display_name": "Python 3",
   "language": "python",
   "name": "python3"
  },
  "language_info": {
   "codemirror_mode": {
    "name": "ipython",
    "version": 3
   },
   "file_extension": ".py",
   "mimetype": "text/x-python",
   "name": "python",
   "nbconvert_exporter": "python",
   "pygments_lexer": "ipython3",
   "version": "3.7.10"
  }
 },
 "nbformat": 4,
 "nbformat_minor": 4
}
